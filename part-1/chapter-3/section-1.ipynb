{
 "cells": [
  {
   "cell_type": "markdown",
   "metadata": {},
   "source": [
    "# 3.1 Asymptotic Notation"
   ]
  },
  {
   "cell_type": "markdown",
   "metadata": {},
   "source": [
    "## 3.1-1\n",
    "\n",
    "Let $h(n) = max(f(n), g(n))$. Since $f$ and $g$ are asymptotically nonnegative, we must have some $N$ such that for every $n > N$ the following hold\n",
    "\n",
    "$$\n",
    "\\begin{aligned}\n",
    "h(n) &\\geq f(n) \\\\\n",
    "h(n) &\\geq g(n)\n",
    "\\end{aligned}\n",
    "$$\n",
    "\n",
    "Summing the two inequalities we get\n",
    "\n",
    "$$\n",
    "2h(n) \\geq f(n) + g(n).\n",
    "$$\n",
    "\n",
    "On the other hand, for some $n_1$ either $h(n_1) = f(n_1)$ or $h(n_1) = g(n_1)$ by definition. Suppose wlog that $g(n_1) \\leq f(n_1)$ and thus $h(n_1) = f(n_1)$. Since both functions are asymptotically nonnegative, we have\n",
    "\n",
    "$$\n",
    "h(n_1) \\leq f(n_1) + g(n_1),\n",
    "$$\n",
    "\n",
    "which holds true for all $n_1$, and therefore\n",
    "\n",
    "$$\n",
    "h(n) \\leq f(n) + g(n).\n",
    "$$\n",
    "\n",
    "Combining the two results, we can form\n",
    "\n",
    "$$\n",
    "\\frac{1}{2}(f(n) + g(n)) \\leq h(n) \\leq f(n) + g(n),\n",
    "$$\n",
    "\n",
    "which holds true for any $n > 0$ and thus\n",
    "\n",
    "$$\n",
    "h(n) = \\Theta(f(n) + g(n)),\n",
    "$$\n"
   ]
  },
  {
   "cell_type": "markdown",
   "metadata": {},
   "source": [
    "## 3.1-2\n",
    "\n",
    "Note that\n",
    "\n",
    "$$\n",
    "(n+a)^b = e^{(\\ln (n+a)^b)} = e^{b\\ln(n+a)}.\n",
    "$$\n",
    "\n",
    "We want to show that $e^{b\\ln(n+a)} = \\Theta(e^{b\\ln n})$. Since the exponential function is monotonically increasing, this reduces to a problem about logarithms. Namely, we want to find constants $e^{bc_1}$ and $e^{bc_2}$ such that\n",
    "\n",
    "$$\n",
    "c_1 + \\ln n \\leq \\ln(n+a) \\leq c_2 + \\ln n\n",
    "$$\n",
    "\n",
    "Further expanding $\\ln(n+a) = \\ln(n(1 + \\frac{a}{n}) = \\ln n + \\ln(1 + \\frac{a}{n})$ allows us to further reduce the inequalities to\n",
    "\n",
    "$$\n",
    "c_1 \\leq \\ln(1 + \\frac{a}{n}) \\leq c_2.\n",
    "$$\n",
    "\n",
    "Setting $c_2 = \\ln (2)$ gives an easy upper bound. For the lower bound, we consider two cases:\n",
    "\n",
    "- When $a \\geq 0$, set $c_1 = 0$. The inequality holds because $1+\\frac{a}{n} \\geq 1$ for all $n > 0$.\n",
    "- When $a < 0$, set $c_1 = \\ln(1 + \\frac{a}{|a - 1|})$. The inequality holds for all $n > |a - 1|$.\n",
    "\n",
    "Thus we have shown that $(n+a)^b = \\Theta(n^b)$."
   ]
  },
  {
   "cell_type": "markdown",
   "metadata": {},
   "source": [
    "## 3.1-3\n",
    "\n",
    "$O$ is an upper bound."
   ]
  },
  {
   "cell_type": "markdown",
   "metadata": {},
   "source": [
    "## 3.1-4\n",
    "\n",
    "$2^{n+1} = 2\\times 2^{n} = O(2^n)$. But $2^{2n} = 2^n2^n \\neq O(2^n)$."
   ]
  },
  {
   "cell_type": "markdown",
   "metadata": {},
   "source": [
    "## 3.1-5\n",
    "\n",
    "Suppose $f(n) = O(g(n)) = \\Omega(g(n))$. Take $n_0$ to be the larger of the two values for $O$ and $\\Omega$ and the definition of $\\Theta$ is fulfilled.\n",
    "\n",
    "Now suppose $f(n) = \\Theta(g(n))$. The definitions of $O$ and $\\Omega$ follow from each constant."
   ]
  },
  {
   "cell_type": "markdown",
   "metadata": {},
   "source": [
    "## 3.1-6"
   ]
  }
 ],
 "metadata": {
  "kernelspec": {
   "display_name": "Python 3",
   "language": "python",
   "name": "python3"
  },
  "language_info": {
   "codemirror_mode": {
    "name": "ipython",
    "version": 3
   },
   "file_extension": ".py",
   "mimetype": "text/x-python",
   "name": "python",
   "nbconvert_exporter": "python",
   "pygments_lexer": "ipython3",
   "version": "3.7.7"
  }
 },
 "nbformat": 4,
 "nbformat_minor": 4
}
