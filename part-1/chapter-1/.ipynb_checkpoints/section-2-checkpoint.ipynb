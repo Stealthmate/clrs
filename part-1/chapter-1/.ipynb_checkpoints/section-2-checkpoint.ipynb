{
 "cells": [
  {
   "cell_type": "markdown",
   "metadata": {},
   "source": [
    "# 1.2 Algorithms as a technology"
   ]
  },
  {
   "cell_type": "markdown",
   "metadata": {},
   "source": [
    "## 1.2-1\n",
    "\n",
    "Games require algorithms for AI-related stuff:\n",
    "\n",
    "- Chess bots need to compute the best move.\n",
    "- FPS game bots need to compute a strategy, find a path towards their goal, etc.\n",
    "- Factorio needs algorithms to compute fluid and train movement."
   ]
  },
  {
   "cell_type": "markdown",
   "metadata": {},
   "source": [
    "## 1.2-2\n",
    "\n",
    "$$\n",
    "\\begin{aligned}\n",
    "8n^2 &= 64n\\lg n \\\\\n",
    "n &= 8\\lg n\n",
    "\\end{aligned}\n",
    "$$\n",
    "\n",
    "Using powers of 2 for ease of calculation, insertion sort is faster than merge sort for most $n < 64$."
   ]
  },
  {
   "cell_type": "markdown",
   "metadata": {},
   "source": [
    "## 1.2-3\n",
    "\n",
    "$n = 15$ is the first integer where $100n^2 = 22500 < 32768 = 2^n$."
   ]
  }
 ],
 "metadata": {
  "kernelspec": {
   "display_name": "Python 3",
   "language": "python",
   "name": "python3"
  },
  "language_info": {
   "codemirror_mode": {
    "name": "ipython",
    "version": 3
   },
   "file_extension": ".py",
   "mimetype": "text/x-python",
   "name": "python",
   "nbconvert_exporter": "python",
   "pygments_lexer": "ipython3",
   "version": "3.7.7"
  }
 },
 "nbformat": 4,
 "nbformat_minor": 4
}
