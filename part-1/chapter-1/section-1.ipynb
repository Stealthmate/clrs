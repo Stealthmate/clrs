{
 "cells": [
  {
   "cell_type": "markdown",
   "metadata": {},
   "source": [
    "# 1.1 Algorithms"
   ]
  },
  {
   "cell_type": "markdown",
   "metadata": {},
   "source": [
    "## 1.1-1\n",
    "\n",
    "*looked up hints*\n",
    "\n",
    "- Sorting - table sorting in Excel\n",
    "- Convex Hull - Computing bounds for a 2D distribution plot (matplotlib, etc.)\n"
   ]
  },
  {
   "cell_type": "markdown",
   "metadata": {},
   "source": [
    "## 1.1-2\n",
    "\n",
    "- Memory usage\n",
    "- Number of IO operations"
   ]
  },
  {
   "cell_type": "markdown",
   "metadata": {},
   "source": [
    "## 1.1-3\n",
    "\n",
    "Linked List\n",
    "\n",
    "Pros:\n",
    "\n",
    "- Fast insertion/deletion at ends\n",
    "- Fast insertion/deletion at known position\n",
    "\n",
    "Cons:\n",
    "\n",
    "- Slow random access\n",
    "- Memory Overhead\n",
    "- Bad cache locality"
   ]
  },
  {
   "cell_type": "markdown",
   "metadata": {},
   "source": [
    "## 1.1-4\n",
    "\n",
    "Similarities:\n",
    "\n",
    "- Both ask for a shortest path\n",
    "\n",
    "Differences:\n",
    "\n",
    "- TSP has the additional constraint that each node should be visited"
   ]
  },
  {
   "cell_type": "markdown",
   "metadata": {},
   "source": [
    "## 1.1-5\n",
    "\n",
    "- Best - String matching/searching\n",
    "- Approximately best - TSP for a distribution company"
   ]
  }
 ],
 "metadata": {
  "kernelspec": {
   "display_name": "Python 3",
   "language": "python",
   "name": "python3"
  },
  "language_info": {
   "codemirror_mode": {
    "name": "ipython",
    "version": 3
   },
   "file_extension": ".py",
   "mimetype": "text/x-python",
   "name": "python",
   "nbconvert_exporter": "python",
   "pygments_lexer": "ipython3",
   "version": "3.7.7"
  }
 },
 "nbformat": 4,
 "nbformat_minor": 4
}
