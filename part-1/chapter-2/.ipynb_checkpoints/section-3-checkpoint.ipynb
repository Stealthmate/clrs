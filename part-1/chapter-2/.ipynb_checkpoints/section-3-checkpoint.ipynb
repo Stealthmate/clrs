{
 "cells": [
  {
   "cell_type": "markdown",
   "metadata": {},
   "source": [
    "## 2.3 Designing Algorithms"
   ]
  },
  {
   "cell_type": "markdown",
   "metadata": {},
   "source": [
    "## 2.3-1\n",
    "\n",
    "- 3, 41, 52, 26, 38, 57, 9, 49 -> 3, 9, 26, 38, 41, 49, 52, 57\n",
    "  - 3, 41, 52, 26 -> 3, 26, 41, 52\n",
    "    - 3, 41\n",
    "      - 3\n",
    "      - 41\n",
    "    - 52, 26 -> 26, 52\n",
    "      - 52\n",
    "      - 26\n",
    "  - 38, 57, 9, 49 -> 9, 38, 49, 57\n",
    "    - 38, 57\n",
    "      - 38\n",
    "      0 47\n",
    "    - 9, 49\n",
    "      - 9\n",
    "      - 47"
   ]
  },
  {
   "cell_type": "markdown",
   "metadata": {},
   "source": [
    "## 2.3-2"
   ]
  },
  {
   "cell_type": "code",
   "execution_count": 1,
   "metadata": {},
   "outputs": [
    {
     "name": "stdout",
     "output_type": "stream",
     "text": [
      "[1, 2, 3, 4, 5, 6, 7, 8]\n"
     ]
    }
   ],
   "source": [
    "def merge(A, p, q, r):\n",
    "    n1 = q - p\n",
    "    n2 = r - q\n",
    "    L = [0] * n1\n",
    "    R = [0] * n2\n",
    "    for i in range(n1):\n",
    "        L[i] = A[p + i]\n",
    "    for i in range(n2):\n",
    "        R[i] = A[q + i]\n",
    "    i = 0\n",
    "    j = 0\n",
    "    k = p\n",
    "    while k < r:\n",
    "        if L[i] <= R[j]:\n",
    "            A[k] = L[i]\n",
    "            i += 1\n",
    "        else:\n",
    "            A[k] = R[j]\n",
    "            j += 1\n",
    "        k += 1\n",
    "        if i == n1 or j == n2:\n",
    "            break\n",
    "    while i < n1:\n",
    "        A[k] = L[i]\n",
    "        k += 1\n",
    "        i += 1\n",
    "    while j < n2:\n",
    "        A[k] = R[j]\n",
    "        k += 1\n",
    "        j += 1\n",
    "    return A\n",
    "\n",
    "print(merge([1, 3, 5, 7, 2, 4, 6, 8], 0, 4, 8))"
   ]
  },
  {
   "cell_type": "markdown",
   "metadata": {},
   "source": [
    "## 2.3-3\n",
    "\n",
    "For $n = n2$ we have $T(2) = 2 = 2 \\lg 2$. Suppose equality holds for $n = k$ and solve for $n = 2k$.\n",
    "\n",
    "$$\n",
    "T(2k) = 2T(k) + k = 2k\\lg k + 2k = 2k(\\lg k + 1) = 2k(\\lg k + 2\\lg 2) = 2k\\lg 2k\n",
    "$$"
   ]
  },
  {
   "cell_type": "markdown",
   "metadata": {},
   "source": [
    "## 2.3-4\n",
    "\n",
    "$$\n",
    "T(n) = T(n - 1) + M(n) + I(n)\n",
    "$$\n",
    "\n",
    "where $M(n)$ is the time to find the place for the element and $I(n)$ is the time to insert it into the array."
   ]
  },
  {
   "cell_type": "markdown",
   "metadata": {},
   "source": [
    "## 2.3-5"
   ]
  },
  {
   "cell_type": "code",
   "execution_count": 2,
   "metadata": {},
   "outputs": [
    {
     "name": "stdout",
     "output_type": "stream",
     "text": [
      "6\n"
     ]
    }
   ],
   "source": [
    "def binary_search(A, v, l, h):\n",
    "    i = (l + h) // 2\n",
    "    if v == A[i]:\n",
    "        return i\n",
    "    if v < A[i]:\n",
    "        return binary_search(A, v, l, i)\n",
    "    return binary_search(A, v, i, h)\n",
    "\n",
    "print(binary_search([1, 2, 3, 4, 5, 6, 7, 8], 7, 0, 8))"
   ]
  },
  {
   "cell_type": "markdown",
   "metadata": {},
   "source": [
    "## 2.3-6\n",
    "\n",
    "No, because we still have to move the elements when inserting."
   ]
  },
  {
   "cell_type": "markdown",
   "metadata": {},
   "source": [
    "## 2.3-7\n",
    "\n",
    "## Solution 1.\n",
    "\n",
    "1. Sort $S$ as an array.\n",
    "2. For each element $a$ in $S$, perform binary search on the sorted array in order to find an element $b$ such that $a + b = x$.\n",
    "\n",
    "## Solution 2. [1]\n",
    "\n",
    "1. Sort $S$ as an array.\n",
    "2. Start with $i = 0$ and $j = n - 1$ at both ends of the array.\n",
    "   1. Compute $a = S[i] + S[j]$.\n",
    "   2. If $a < x$, increment $i$ and try again.\n",
    "   3. If $a > x$, decrement $j$ and try again.\n",
    "   4. If $i$ and $j$ meet, there are no such elements.\n",
    "\n",
    "\n",
    "[1] [Solution 2](https://atekihcan.github.io/CLRS/02/E02.03-07/)"
   ]
  }
 ],
 "metadata": {
  "kernelspec": {
   "display_name": "Python 3",
   "language": "python",
   "name": "python3"
  },
  "language_info": {
   "codemirror_mode": {
    "name": "ipython",
    "version": 3
   },
   "file_extension": ".py",
   "mimetype": "text/x-python",
   "name": "python",
   "nbconvert_exporter": "python",
   "pygments_lexer": "ipython3",
   "version": "3.7.7"
  }
 },
 "nbformat": 4,
 "nbformat_minor": 4
}
