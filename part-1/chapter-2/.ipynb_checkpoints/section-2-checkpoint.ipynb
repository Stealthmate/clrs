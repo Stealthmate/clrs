{
 "cells": [
  {
   "cell_type": "markdown",
   "metadata": {},
   "source": [
    "## 2.2 Analyzing Algorithms"
   ]
  },
  {
   "cell_type": "markdown",
   "metadata": {},
   "source": [
    "## 2.2-1\n",
    "\n",
    "$$\n",
    "\\Theta(f) = n\n",
    "$$"
   ]
  },
  {
   "cell_type": "markdown",
   "metadata": {},
   "source": [
    "## 2.2-2"
   ]
  },
  {
   "cell_type": "code",
   "execution_count": 1,
   "metadata": {},
   "outputs": [
    {
     "name": "stdout",
     "output_type": "stream",
     "text": [
      "[1, 2, 3, 4, 5]\n"
     ]
    }
   ],
   "source": [
    "# It needs to run only for the first n-1 elements because the last one cannot be smaller than all the others.\n",
    "# Loop invariant is that on each iteration, the first i elements are the smallest elements in A, sorted in the correct order.\n",
    "# Best-case time: n(n-1)/2 = O(n^2)\n",
    "# Worst-case time: n(n-1)/2 = O(n^2)\n",
    "\n",
    "def selection_sort(A):\n",
    "    for i in range(len(A) - 1):\n",
    "        min_idx = i\n",
    "        for j in range(i, len(A)):\n",
    "            if A[j] < A[min_idx]:\n",
    "                min_idx = j\n",
    "        t = A[min_idx]\n",
    "        A[min_idx] = A[i]\n",
    "        A[i] = t\n",
    "    return A\n",
    "\n",
    "print(selection_sort([3, 2, 5, 1, 4]))"
   ]
  },
  {
   "cell_type": "markdown",
   "metadata": {},
   "source": [
    "## 2.2-3\n",
    "\n",
    "On average, it needs $n / 2 = \\Theta(n)$ checks. Worst-case is $n$ checks."
   ]
  },
  {
   "cell_type": "markdown",
   "metadata": {},
   "source": [
    "## 2.2-4\n",
    "\n",
    "\n",
    "Verify if problem is already solved before attempting to solve."
   ]
  }
 ],
 "metadata": {
  "kernelspec": {
   "display_name": "Python 3",
   "language": "python",
   "name": "python3"
  },
  "language_info": {
   "codemirror_mode": {
    "name": "ipython",
    "version": 3
   },
   "file_extension": ".py",
   "mimetype": "text/x-python",
   "name": "python",
   "nbconvert_exporter": "python",
   "pygments_lexer": "ipython3",
   "version": "3.7.7"
  }
 },
 "nbformat": 4,
 "nbformat_minor": 4
}
