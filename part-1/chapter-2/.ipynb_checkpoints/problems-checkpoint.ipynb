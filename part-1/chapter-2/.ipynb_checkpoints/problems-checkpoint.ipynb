{
 "cells": [
  {
   "cell_type": "markdown",
   "metadata": {},
   "source": [
    "# Problems for Chapter 2"
   ]
  },
  {
   "cell_type": "markdown",
   "metadata": {},
   "source": [
    "## 2-1\n",
    "\n",
    "### a\n",
    "\n",
    "Each list is sorted in $\\Theta(k^2)$ time and there are $\\frac{n}{k}$ lists, so the total time is $T = \\Theta(k^2) * \\frac{n}{k} = \\Theta(nk)$."
   ]
  },
  {
   "cell_type": "markdown",
   "metadata": {},
   "source": [
    "### b [2]\n",
    "\n",
    "We have $\\frac{n}{k}$ lists, each with $k$ members and we can merge them pair by pair. Thus we have $\\lg\\frac{n}{k}$ merge levels and for each level we merge $n$ elements, therefore the total time is $\\Theta(n\\lg\\frac{n}{k})$."
   ]
  },
  {
   "cell_type": "markdown",
   "metadata": {},
   "source": [
    "### c\n",
    "\n",
    "With $k = \\Theta(\\lg n)$ we have:\n",
    "\n",
    "$$\n",
    "\\begin{aligned}\n",
    "\\Theta(n\\lg n + n\\lg(\\frac{n}{\\lg n} &= \\Theta(n\\lg n + n(\\lg n - \\lg^2 n)) \\\\\n",
    "&= \\Theta(2n\\lg n - n\\lg^2 n)\n",
    "\\end{aligned}\n",
    "$$\n",
    "\n",
    "Here, $n\\lg n > n\\lg^2 n$, so the final time is $\\Theta(n\\lg n)$"
   ]
  },
  {
   "cell_type": "markdown",
   "metadata": {},
   "source": [
    "### d\n",
    "\n",
    "Test for which values of $k$ insertion beats merge and set it to that.\n",
    "\n",
    "[[2]](https://atekihcan.github.io/CLRS/02/P02-01/)"
   ]
  },
  {
   "cell_type": "markdown",
   "metadata": {},
   "source": [
    "## 2-2\n",
    "\n",
    "### a\n",
    "\n",
    "Prove the the elements of $A\\prime$ are actually the elements of $A$."
   ]
  },
  {
   "cell_type": "markdown",
   "metadata": {},
   "source": [
    "### b\n",
    "\n",
    "#### Invariant\n",
    "\n",
    "Before each iteration, the element A'[j] is smaller than all other elements A[k] for k > j.\n",
    "\n",
    "#### Initialization\n",
    "\n",
    "Before j = A.length - 1, the statement is trivially true.\n",
    "\n",
    "#### Maintenance\n",
    "\n",
    "Suppose the invariant holds before j = k. That is, element A[k] is smaller than all other elements after it. On the j-th iteration, if A[j - 1] is smaller than A[j], then they are exchanged, and thus A[j-1] is now smaller than all other elements after it.\n",
    "\n",
    "#### Termination\n",
    "\n",
    "The loop terminates when j = i. Thus at the end of the loop, A[i] is smaller than all A[k] for k > i."
   ]
  },
  {
   "cell_type": "markdown",
   "metadata": {},
   "source": [
    "### c\n",
    "\n",
    "#### Invariant\n",
    "\n",
    "Before each iteration, the subarray A'[0..i] contains the smallest i elements of A in sorted order.\n",
    "\n",
    "#### Initialization\n",
    "\n",
    "Before i = 0, the invariant is vacuously true.\n",
    "\n",
    "#### Maintenance\n",
    "\n",
    "Assume the invariant holds before i = k. In the k-th iteration, the inner loop ensures that A[k] is smaller than all A[j] for j > k. But by hypothesis A[k] is also not smaller than A[j] for j < k. Thus A[0..k+1] now contains the smallest k+1 elements of A in sorted order.\n",
    "\n",
    "#### Termination\n",
    "\n",
    "The loop terminates when i = A.length, which means that at the end, A[0..A.length]=A now contains all the elements of A in sorted order."
   ]
  },
  {
   "cell_type": "markdown",
   "metadata": {},
   "source": [
    "### d\n",
    "\n",
    "Bubblesort performs exactly\n",
    "\n",
    "$$\n",
    "1 + 2 + 3 + \\cdots + n = \\frac{n(n+1)}{2}\n",
    "$$\n",
    "\n",
    "iterations regardless of the state of the input, so the worst case time is the same as the best and average case time, namely $\\Theta(n^2)$."
   ]
  },
  {
   "cell_type": "markdown",
   "metadata": {},
   "source": [
    "## 2-3\n",
    "\n",
    "### a\n",
    "\n",
    "$\\Theta(n)$"
   ]
  },
  {
   "cell_type": "markdown",
   "metadata": {},
   "source": [
    "### b"
   ]
  },
  {
   "cell_type": "code",
   "execution_count": 1,
   "metadata": {},
   "outputs": [
    {
     "name": "stdout",
     "output_type": "stream",
     "text": [
      "34\n"
     ]
    }
   ],
   "source": [
    "# O(n)\n",
    "def naive_exp(x, n):\n",
    "    xn = 1\n",
    "    for i in range(n):\n",
    "        xn *= x\n",
    "    return xn\n",
    "\n",
    "# O(log n)\n",
    "def efficient_exp(x, n):\n",
    "    if n == 0:\n",
    "        return 1\n",
    "    n1 = 1\n",
    "    r = 1\n",
    "    if n % 2 == 0:\n",
    "        r = efficient_exp(x, n // 2)\n",
    "        return r * r\n",
    "    else:\n",
    "        r = efficient_exp(x, (n - 1) // 2)\n",
    "        return r * r * x\n",
    "\n",
    "# Assuming exponentiation is not an instruction,\n",
    "# the naive method can be done in either\n",
    "# 1 + 2 + 3 + ... + n = O(n^2) when using naive exponentiation\n",
    "# or\n",
    "# log 1 + log 2 + log 3 + ... + log n = O(log n!) = O(nlog n) (not proved here)\n",
    "def naive_eval(A, x):\n",
    "    v = 0\n",
    "    for i in range(len(A)):\n",
    "        v += naive_exp(x, i) * A[i]\n",
    "        # v += efficient_exp(x, i) * A[i]\n",
    "    return v\n",
    "\n",
    "print(naive_eval([1, 2, 3], 3))"
   ]
  },
  {
   "cell_type": "markdown",
   "metadata": {},
   "source": [
    "### c\n",
    "\n",
    "#### Initialization\n",
    "\n",
    "Before i = n, the invariant is true due to initial value.\n",
    "\n",
    "#### Maintenance\n",
    "\n",
    "Assume the invariant is true before i = k. At the k-th iteration, y becomes\n",
    "\n",
    "$$\n",
    "\\begin{aligned}\n",
    "y\\prime = a_k + xy \\\\\n",
    "&= a_k + x\\sum_{j=0}^{n - (i + 1)} a_{j+i+1}x^{j} \\\\\n",
    "&= a_k + \\sum_{j=0}^{n - (i + 1)} a_{j+i+1}x^{j + 1} \\\\\n",
    "&= a_k + (a_{k+1}x^{1} + a_{k+2}x^{2} + \\cdots + a_{n - 1}x^{n - k} \\\\\n",
    "&= \\sum_{j=0}^{n - k} a_{j + k}x^{j} \\\\\n",
    "&= \\sum_{j=0}^{n - ((i - 1) + 1)}a_{j + (i - 1) + 1}x^{j} \\\\\n",
    "&= \\sum_{j=0}^{n - (i\\prime + 1)}a_{j + i\\prime + 1}x^{j}\n",
    "\\end{aligned}\n",
    "$$\n",
    "\n",
    "where $i\\prime = i - 1$ which is the value of i before the next iteration.\n",
    "\n",
    "#### Termination\n",
    "\n",
    "The loop terminates after the i = 0 iteration, thus at the end\n",
    "\n",
    "$$\n",
    "y = \\sum_{j=0}^{n} a_{j}x^{j} = P(x)\n",
    "$$"
   ]
  },
  {
   "cell_type": "markdown",
   "metadata": {},
   "source": [
    "### d\n",
    "\n",
    "Obvious from the formulas."
   ]
  },
  {
   "cell_type": "markdown",
   "metadata": {},
   "source": [
    "## 2-4\n",
    "\n",
    "### a\n",
    "\n",
    "(2, 1)\n",
    "(3, 1)\n",
    "(8, 6)\n",
    "(8, 1)\n",
    "(6, 1)"
   ]
  },
  {
   "cell_type": "markdown",
   "metadata": {},
   "source": [
    "### b\n",
    "\n",
    "The array [n, n-1, ..., 1], because every element is in an inversion with every element after it. Thus there are $(n - 1) + (n-2) + ... + 1 = \\frac{n(n-1)}/{2}$."
   ]
  },
  {
   "cell_type": "markdown",
   "metadata": {},
   "source": [
    "### c\n",
    "\n",
    "The number of times the internal loop executes is equal to the number of inversions that the currently considered element is in."
   ]
  },
  {
   "cell_type": "markdown",
   "metadata": {},
   "source": [
    "### d"
   ]
  },
  {
   "cell_type": "code",
   "execution_count": 2,
   "metadata": {},
   "outputs": [
    {
     "name": "stdout",
     "output_type": "stream",
     "text": [
      "5\n",
      "[1, 2, 3, 6, 8]\n"
     ]
    }
   ],
   "source": [
    "def merge(A, l, i, h):\n",
    "    L = A[l:i]\n",
    "    R = A[i:h]\n",
    "    j = 0\n",
    "    k = 0\n",
    "    invs = 0\n",
    "    for idx in range(l, h):\n",
    "        if (j < len(L)) and (k == len(R) or L[j] < R[k]):\n",
    "            A[idx] = L[j]\n",
    "            j += 1\n",
    "        else:\n",
    "            A[idx] = R[k]\n",
    "            invs += len(L) - j\n",
    "            k += 1\n",
    "    return invs\n",
    "\n",
    "def n_inversions(A, l, h):\n",
    "    n = 0\n",
    "    if l < h - 1:\n",
    "        i = (l + h) // 2\n",
    "        n = n_inversions(A, l, i)\n",
    "        n += n_inversions(A, i, h)\n",
    "        n += merge(A, l, i, h)\n",
    "    return n\n",
    "\n",
    "A = [2, 3, 8, 6, 1]\n",
    "print(n_inversions(A, 0, 5))\n",
    "print(A)"
   ]
  }
 ],
 "metadata": {
  "kernelspec": {
   "display_name": "Python 3",
   "language": "python",
   "name": "python3"
  },
  "language_info": {
   "codemirror_mode": {
    "name": "ipython",
    "version": 3
   },
   "file_extension": ".py",
   "mimetype": "text/x-python",
   "name": "python",
   "nbconvert_exporter": "python",
   "pygments_lexer": "ipython3",
   "version": "3.7.7"
  }
 },
 "nbformat": 4,
 "nbformat_minor": 4
}
