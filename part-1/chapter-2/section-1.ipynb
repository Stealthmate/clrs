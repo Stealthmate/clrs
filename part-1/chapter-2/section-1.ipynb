{
 "cells": [
  {
   "cell_type": "markdown",
   "metadata": {},
   "source": [
    "# 2.1 Insertion Sort"
   ]
  },
  {
   "cell_type": "markdown",
   "metadata": {},
   "source": [
    "## 2.1-1\n",
    "\n",
    "Using ^ to show current loop position.\n",
    "\n",
    "- ^ 31,41,59,26,41,58\n",
    "- 31 ^ 41,59,26,41,58\n",
    "- 31,41 ^ 59,26,41,58\n",
    "- 31,41,59 ^ 26,41,58\n",
    "- 26,31,41,59 ^ 41,58, where 26 is swapped with 59, then 41, then 31.\n",
    "- 26,31,41,41,59, ^ 58, where 41 is swapped with 59.\n",
    "- 26,31,41,41,58,59 ^ , where 58 is swapped with 59."
   ]
  },
  {
   "cell_type": "markdown",
   "metadata": {},
   "source": [
    "## 2.1-2"
   ]
  },
  {
   "cell_type": "code",
   "execution_count": 1,
   "metadata": {},
   "outputs": [],
   "source": [
    "def insertion_sort(A):\n",
    "    for j in range(1, len(A)):\n",
    "        key = A[j]\n",
    "        # Insert A[j] into the sorted sequence A[0...j - 1]\n",
    "        i = j - 1\n",
    "        while i >= 0 and A[i] < key: # A: Change A[i] > key to A[i] < key\n",
    "            A[i + 1] = A[i]\n",
    "            i = i - 1\n",
    "        A[i + 1] = key\n",
    "    return A\n",
    "\n",
    "print(insertion_sort([31,41,59,26,41,58]))"
   ]
  },
  {
   "cell_type": "markdown",
   "metadata": {},
   "source": [
    "## 2.1-3"
   ]
  },
  {
   "cell_type": "code",
   "execution_count": 2,
   "metadata": {},
   "outputs": [],
   "source": [
    "def linear_search(A, v):\n",
    "    \"\"\"\n",
    "    Loop invariant:\n",
    "       At the start of each iteration, v appears in the subarray A[0:i] if and only if idx is not NIL points to the index of v in A.\n",
    "\n",
    "    Initialization: idx = NIL and v does not appear in the (empty) subarray A[0:0].\n",
    "\n",
    "    Maintenance: Assume v does not appear in A[0:i] and idx is NIL. idx changes its value to i + 1 only if A[i+1] = v, implying that v appears in A and vice versa.\n",
    "\n",
    "    Termination: The loop terminates when i becomes greater than the length of A. At that point the invariant states that idx points to an element in A if and only if v appears in A.\n",
    "    \"\"\"\n",
    "    idx = None\n",
    "    for i in range(0, len(A)):\n",
    "        if A[i] == v:\n",
    "            idx = i\n",
    "    return idx\n",
    "\n",
    "A = [1, 2, 3, 4, 5]\n",
    "print(A, 3, linear_search(A, 3))\n",
    "print(A, 6, linear_search(A, 6))"
   ]
  },
  {
   "cell_type": "markdown",
   "metadata": {},
   "source": [
    "## 2.1-4"
   ]
  },
  {
   "cell_type": "code",
   "execution_count": 3,
   "metadata": {},
   "outputs": [],
   "source": [
    "def add_binary_integers(A, B):\n",
    "    C = [0 for _ in range(len(A) + 1)]\n",
    "    carry = 0\n",
    "    \"\"\"\n",
    "    Loop invariant:\n",
    "      At the start of each iteration, C[0:i] contains the first i digits of the sum of the integers represented by A[0:i] and B[0:i], and carry represents the carry bit (the (i+1)-th digit).\n",
    "    \"\"\"\n",
    "    for i in range(0, len(A)):\n",
    "        r = A[i] + B[i] + carry\n",
    "        if r <= 1:\n",
    "            C[i] = r\n",
    "            carry = 0\n",
    "        else:\n",
    "            C[i] = r % 2\n",
    "            carry = 1\n",
    "    C[len(A)] = carry\n",
    "    return C\n",
    "\n",
    "A = [0,1,0]\n",
    "B = [1,1,1]\n",
    "print(add_binary_integers(A, B))"
   ]
  }
 ],
 "metadata": {
  "kernelspec": {
   "display_name": "Python 3",
   "language": "python",
   "name": "python3"
  },
  "language_info": {
   "codemirror_mode": {
    "name": "ipython",
    "version": 3
   },
   "file_extension": ".py",
   "mimetype": "text/x-python",
   "name": "python",
   "nbconvert_exporter": "python",
   "pygments_lexer": "ipython3",
   "version": "3.7.7"
  }
 },
 "nbformat": 4,
 "nbformat_minor": 4
}
